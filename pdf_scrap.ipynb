{
 "cells": [
  {
   "cell_type": "code",
   "execution_count": 1,
   "id": "initial_id",
   "metadata": {
    "ExecuteTime": {
     "end_time": "2023-12-06T13:56:35.050206Z",
     "start_time": "2023-12-06T13:56:34.999298Z"
    },
    "collapsed": true
   },
   "outputs": [],
   "source": [
    "import requests"
   ]
  },
  {
   "cell_type": "code",
   "execution_count": 2,
   "id": "c51b17d4056e737f",
   "metadata": {
    "ExecuteTime": {
     "end_time": "2023-12-06T13:56:35.743240Z",
     "start_time": "2023-12-06T13:56:35.557421Z"
    },
    "collapsed": false
   },
   "outputs": [],
   "source": [
    "url = 'https://www.dfg.de/formulare/60_12/v/60_12_-2023-_de.pdf'\n",
    "response = requests.get(url)"
   ]
  },
  {
   "cell_type": "code",
   "execution_count": 3,
   "id": "b90691e171a0419f",
   "metadata": {
    "ExecuteTime": {
     "end_time": "2023-12-06T13:59:28.674827Z",
     "start_time": "2023-12-06T13:59:28.670076Z"
    },
    "collapsed": false
   },
   "outputs": [],
   "source": [
    "with open(\"output.pdf\", \"wb\") as pdf_file:\n",
    "    pdf_file.write(response.content)"
   ]
  },
  {
   "cell_type": "code",
   "execution_count": 4,
   "id": "92c5172fd5f79ad8",
   "metadata": {
    "ExecuteTime": {
     "end_time": "2023-12-06T13:59:33.170283Z",
     "start_time": "2023-12-06T13:59:33.160772Z"
    },
    "collapsed": false
   },
   "outputs": [],
   "source": [
    "import PyPDF2\n",
    "\n",
    "def extract_text_from_pdf(pdf_path):\n",
    "    with open(pdf_path, 'rb') as file:\n",
    "        pdf_reader = PyPDF2.PdfReader(file)\n",
    "        text = \"\"\n",
    "        for page_num in range(len(pdf_reader.pages)):\n",
    "            text += pdf_reader.pages[page_num].extract_text()\n",
    "    return text\n",
    "\n"
   ]
  },
  {
   "cell_type": "code",
   "execution_count": 5,
   "id": "125fac248388ffd7",
   "metadata": {
    "ExecuteTime": {
     "end_time": "2023-12-06T13:59:34.056878Z",
     "start_time": "2023-12-06T13:59:34.015118Z"
    },
    "collapsed": false
   },
   "outputs": [
    {
     "data": {
      "text/plain": [
       "'DFG -Vordruck 60.12 – 01/23 Seite 1 von 1 \\nDeutsche Forschungsgemeinschaft  \\nKennedyallee 40 ∙ 53175 Bonn ∙  Postanschrift: 53170 Bonn  \\nTelefon: + 49 228 885 -1 ∙ Telefax: + 49 228 885 -2777 ∙ postmaster@dfg.de ∙ www.dfg.de  DFG \\n \\n Personalmittel sätze der DFG für das Jahr 2023  \\nDie Deutsche Forschungsgemeinschaft ( DFG ) bewilligt seit der Einführung der flexibilisierten För-\\nderung in allen För dervorhaben Personalmittel grundsätzlich in Form von pauschalierten Beträ-\\ngen. Die Beträge sind von der Geschäftsstelle der DFG anhand der einschlägigen Tarifmerkmale \\nauf Basis einer Vollzeitbeschäf tigung ermittelt und beruhen auf „Bruttoarbeitgeberkosten“. Sie \\nenthal ten u. a. die Arbeitgeberanteile zur Sozialversicherung (einschl. Zusatzversorgung) und zu \\nden vermögenswirksamen Leistungen sowie die Jahressonderzahlung (sog. Weihnachtsgeld).  \\nFür die Ermittlung der persönlichen Vergütung sind sie weder vorgesehen noch g eeignet.   \\nDie jeweilige Vergütungs - bzw. Entgeltgruppe, die die DFG ihrer Mittelberechnung zugrunde legt, \\nersetzt nicht die tarifliche Prüfung durch den Arbeitgeber, bei der die Regelungen der jeweiligen \\nVerwendungsrichtlinien der DFG zu beachten sind.  \\n \\nPersonal kosten kategorie  EUR / \\nJahr EUR / \\nMonat  Tarifliche  \\nOrientierung  Erläuterung en \\nProfessur  114.300  9.525  W-Besoldung   \\nNachwuchsgruppenleiterin/  \\nNachwuchsgruppenleiter / \\nHeisenberg -Förderung   94.500  7.875  E 14 S tufe 5 \\nbis E 15 \\nStufe 4  \\nPostdoktorandin/  \\nPostdokto rand \\nund Vergleichbare  80.100  6.675  E 13 S tufe 3 \\nbis E 14 \\nStufe 2  Promovierte s Personal oder  sonstige wissen-\\nschaftliche Beschäftigte  ohne Promotionsab-\\nsicht mit mindestens 3-jähriger  Berufserfah-\\nrung (universitäres Diplom oder Masterab-\\nschluss  (Uni/FH) ) \\nÄrztliche wissenschaftliche  \\nMitarbeiterin/Ärztlicher wissen-\\nschaftlicher Mitarbeiter  102.300  8.525  Ä 1 Stufe 2 \\nbis \\nÄ 2 Stufe 1  Beschäftigte, die nach TV -Ä vergütet werden \\n(inkl.)  Rotationsstellen/Gerokstellen)  \\nDoktorandin/Doktorand  \\nund Vergleichbare  74.100  6.175  E 13 Stufe 2 \\nbis E 14 \\nStufe 1  Promovierende  oder sonstige wissenschaftli-\\nche Beschäftigte ohne Promotionsabsicht  mit \\nweniger als 3 Jahren Berufserfahrung  \\n(universitäres  Diplom oder Masterabschluss \\n(Uni/FH) ) \\nSonstige(r) wissenschaftliche (r) \\nMitarbeiterin  oder Mitarbeiter  61.500  5.125  E 9 bis E 12 Beschäftigte mit Bachelorabschluss (Uni/FH)  \\nNichtwissenschaftliche(r)  Mitar-\\nbeiterin oder Mitarbeiter  54.300  4.525  E 2 Stufe 1 \\nbis  \\nE 9 Stufe 2  Sonstige technische oder administrative Be-\\nschäftigte  mit tarifgebundenem Arbeitsvertrag \\nwie z. B. Technische Assisten z, Labor - und \\nWerkstattpersonal  \\nSonstige Personal mittel  (Mittel nach Bedarf gem äß den orts-\\nüblichen Sätzen)  Stud. und wissenschaftliche Hil fskräfte, Vertre-\\ntungskosten  \\n \\n'"
      ]
     },
     "execution_count": 5,
     "metadata": {},
     "output_type": "execute_result"
    }
   ],
   "source": [
    "path = \"output.pdf\"\n",
    "text = extract_text_from_pdf(path)\n",
    "text"
   ]
  },
  {
   "cell_type": "code",
   "execution_count": 6,
   "id": "f423f66fa8bce3c6",
   "metadata": {
    "ExecuteTime": {
     "end_time": "2023-12-06T14:04:09.009690Z",
     "start_time": "2023-12-06T14:04:08.977866Z"
    },
    "collapsed": false
   },
   "outputs": [
    {
     "name": "stdout",
     "output_type": "stream",
     "text": [
      "DFG -Vordruck 60.12 – 01/23 Seite 1 von 1 \n",
      "Deutsche Forschungsgemeinschaft  \n",
      "Kennedyallee 40 ∙ 53175 Bonn ∙  Postanschrift: 53170 Bonn  \n",
      "Telefon: + 49 228 885 -1 ∙ Telefax: + 49 228 885 -2777 ∙ postmaster@dfg.de ∙ www.dfg.de  DFG \n",
      " \n",
      " Personalmittel sätze der DFG für das Jahr 2023  \n",
      "Die Deutsche Forschungsgemeinschaft ( DFG ) bewilligt seit der Einführung der flexibilisierten För-\n",
      "derung in allen För dervorhaben Personalmittel grundsätzlich in Form von pauschalierten Beträ-\n",
      "gen. Die Beträge sind von der Geschäftsstelle der DFG anhand der einschlägigen Tarifmerkmale \n",
      "auf Basis einer Vollzeitbeschäf tigung ermittelt und beruhen auf „Bruttoarbeitgeberkosten“. Sie \n",
      "enthal ten u. a. die Arbeitgeberanteile zur Sozialversicherung (einschl. Zusatzversorgung) und zu \n",
      "den vermögenswirksamen Leistungen sowie die Jahressonderzahlung (sog. Weihnachtsgeld).  \n",
      "Für die Ermittlung der persönlichen Vergütung sind sie weder vorgesehen noch g eeignet.   \n",
      "Die jeweilige Vergütungs - bzw. Entgeltgruppe, die die DFG ihrer Mittelberechnung zugrunde legt, \n",
      "ersetzt nicht die tarifliche Prüfung durch den Arbeitgeber, bei der die Regelungen der jeweiligen \n",
      "Verwendungsrichtlinien der DFG zu beachten sind.  \n",
      " \n",
      "Personal kosten kategorie  EUR / \n",
      "Jahr EUR / \n",
      "Monat  Tarifliche  \n",
      "Orientierung  Erläuterung en \n",
      "Professur  114.300  9.525  W-Besoldung   \n",
      "Nachwuchsgruppenleiterin/  \n",
      "Nachwuchsgruppenleiter / \n",
      "Heisenberg -Förderung   94.500  7.875  E 14 S tufe 5 \n",
      "bis E 15 \n",
      "Stufe 4  \n",
      "Postdoktorandin/  \n",
      "Postdokto rand \n",
      "und Vergleichbare  80.100  6.675  E 13 S tufe 3 \n",
      "bis E 14 \n",
      "Stufe 2  Promovierte s Personal oder  sonstige wissen-\n",
      "schaftliche Beschäftigte  ohne Promotionsab-\n",
      "sicht mit mindestens 3-jähriger  Berufserfah-\n",
      "rung (universitäres Diplom oder Masterab-\n",
      "schluss  (Uni/FH) ) \n",
      "Ärztliche wissenschaftliche  \n",
      "Mitarbeiterin/Ärztlicher wissen-\n",
      "schaftlicher Mitarbeiter  102.300  8.525  Ä 1 Stufe 2 \n",
      "bis \n",
      "Ä 2 Stufe 1  Beschäftigte, die nach TV -Ä vergütet werden \n",
      "(inkl.)  Rotationsstellen/Gerokstellen)  \n",
      "Doktorandin/Doktorand  \n",
      "und Vergleichbare  74.100  6.175  E 13 Stufe 2 \n",
      "bis E 14 \n",
      "Stufe 1  Promovierende  oder sonstige wissenschaftli-\n",
      "che Beschäftigte ohne Promotionsabsicht  mit \n",
      "weniger als 3 Jahren Berufserfahrung  \n",
      "(universitäres  Diplom oder Masterabschluss \n",
      "(Uni/FH) ) \n",
      "Sonstige(r) wissenschaftliche (r) \n",
      "Mitarbeiterin  oder Mitarbeiter  61.500  5.125  E 9 bis E 12 Beschäftigte mit Bachelorabschluss (Uni/FH)  \n",
      "Nichtwissenschaftliche(r)  Mitar-\n",
      "beiterin oder Mitarbeiter  54.300  4.525  E 2 Stufe 1 \n",
      "bis  \n",
      "E 9 Stufe 2  Sonstige technische oder administrative Be-\n",
      "schäftigte  mit tarifgebundenem Arbeitsvertrag \n",
      "wie z. B. Technische Assisten z, Labor - und \n",
      "Werkstattpersonal  \n",
      "Sonstige Personal mittel  (Mittel nach Bedarf gem äß den orts-\n",
      "üblichen Sätzen)  Stud. und wissenschaftliche Hil fskräfte, Vertre-\n",
      "tungskosten  \n",
      " \n",
      "\n"
     ]
    }
   ],
   "source": [
    "import PyPDF2\n",
    "pdf_file = open(path, 'rb')\n",
    "read_pdf = PyPDF2.PdfReader(pdf_file)\n",
    "number_of_pages = len(read_pdf.pages)\n",
    "page = read_pdf.pages[0]\n",
    "page_content = page.extract_text()\n",
    "print (page_content)"
   ]
  },
  {
   "cell_type": "code",
   "execution_count": 7,
   "id": "df560483e4d0e3c9",
   "metadata": {
    "ExecuteTime": {
     "end_time": "2023-12-06T14:20:42.963559Z",
     "start_time": "2023-12-06T14:20:42.875491Z"
    },
    "collapsed": false
   },
   "outputs": [
    {
     "data": {
      "text/plain": [
       "[[['Personalkostenkategorie', 'EUR/', 'EUR/', 'Tarifliche', 'Erläuterungen'],\n",
       "  [None, 'Jahr', 'Monat', 'Orientierung', ''],\n",
       "  ['Professur', '114.300', '9.525', 'W-Besoldung', ''],\n",
       "  ['Nachwuchsgruppenleiterin/\\nNachwuchsgruppenleiter/\\nH eisenberg-Förderung',\n",
       "   '94.500',\n",
       "   '7.875',\n",
       "   'E 14 Stufe 5\\nbis E 15\\nStufe 4',\n",
       "   ''],\n",
       "  ['Postdoktorandin/\\nPostdoktorand\\nund Vergleichbare',\n",
       "   '80.100',\n",
       "   '6.675',\n",
       "   'E 13 Stufe 3\\nbis E 14\\nStufe 2',\n",
       "   'Promoviertes Personal oder sonstige wissen-\\nschaftliche Beschäftigte ohne Promotionsab-\\nsicht mit mindestens 3-jähriger Berufserfah-\\nrung (universitäres Diplom oder Masterab-\\nschluss (Uni/FH))'],\n",
       "  ['Ärztliche wissenschaftliche\\nMitarbeiterin/Ärztlicher wissen-\\nschaftlicher Mitarbeiter',\n",
       "   '102.300',\n",
       "   '8.525',\n",
       "   'Ä 1 Stufe 2\\nbis\\nÄ 2 Stufe 1',\n",
       "   'Beschäftigte, die nach TV-Ä vergütet werden\\n(inkl.) Rotationsstellen/Gerokstellen)'],\n",
       "  ['Doktorandin/Doktorand\\nund Vergleichbare',\n",
       "   '74.100',\n",
       "   '6.175',\n",
       "   'E 13 Stufe 2\\nbis E 14\\nStufe 1',\n",
       "   'Promovierende oder sonstige wissenschaftli-\\nche Beschäftigte ohne Promotionsabsicht mit\\nweniger als 3 Jahren Berufserfahrung\\n(universitäres Diplom oder Masterabschluss\\n(Uni/FH))'],\n",
       "  ['Sonstige(r) wissenschaftliche(r)\\nMitarbeiterin oder Mitarbeiter',\n",
       "   '61.500',\n",
       "   '5.125',\n",
       "   'E 9 bis E 12',\n",
       "   'Beschäftigte mit Bachelorabschluss (Uni/FH)'],\n",
       "  ['Nichtwissenschaftliche(r) Mitar-\\nbeiterin oder Mitarbeiter',\n",
       "   '54.300',\n",
       "   '4.525',\n",
       "   'E 2 Stufe 1\\nbis\\nE 9 Stufe 2',\n",
       "   'Sonstige technische oder administrative Be-\\nschäftigte mit tarifgebundenem Arbeitsvertrag\\nwie z. B. Technische Assistenz, Labor- und\\nWerkstattpersonal'],\n",
       "  ['Sonstige Personalmittel',\n",
       "   '(Mittel nach Bedarf gemäß den orts-\\nüblichen Sätzen)',\n",
       "   None,\n",
       "   None,\n",
       "   'Stud. und wissenschaftliche Hilfskräfte, Vertre-\\ntungskosten']]]"
      ]
     },
     "execution_count": 7,
     "metadata": {},
     "output_type": "execute_result"
    }
   ],
   "source": [
    "import pdfplumber\n",
    "with pdfplumber.open('output.pdf') as f:\n",
    "    for i in f.pages:\n",
    "        extracted_table = i.extract_tables()\n",
    "        \n",
    "        \n",
    "extracted_table"
   ]
  },
  {
   "cell_type": "code",
   "execution_count": 8,
   "id": "9d8e7ddb45261058",
   "metadata": {
    "ExecuteTime": {
     "end_time": "2023-12-06T14:22:57.336624Z",
     "start_time": "2023-12-06T14:22:57.320302Z"
    },
    "collapsed": false
   },
   "outputs": [
    {
     "name": "stdout",
     "output_type": "stream",
     "text": [
      "EUR/ Jahr\n",
      "EUR/ Monat\n",
      "Tarifliche Orientierung\n",
      "Erläuterungen \n"
     ]
    }
   ],
   "source": [
    "for i in range(1,5):\n",
    "    #print(i)\n",
    "    extracted_table[0][0][i] = extracted_table[0][0][i] + ' ' + extracted_table[0][1][i]\n",
    "    print(extracted_table[0][0][i])"
   ]
  },
  {
   "cell_type": "code",
   "execution_count": 9,
   "id": "75b819496a72eea9",
   "metadata": {
    "ExecuteTime": {
     "end_time": "2023-12-06T14:23:09.448590Z",
     "start_time": "2023-12-06T14:23:09.444911Z"
    },
    "collapsed": false
   },
   "outputs": [
    {
     "data": {
      "text/plain": [
       "[[['Personalkostenkategorie',\n",
       "   'EUR/ Jahr',\n",
       "   'EUR/ Monat',\n",
       "   'Tarifliche Orientierung',\n",
       "   'Erläuterungen '],\n",
       "  [None, 'Jahr', 'Monat', 'Orientierung', ''],\n",
       "  ['Professur', '114.300', '9.525', 'W-Besoldung', ''],\n",
       "  ['Nachwuchsgruppenleiterin/\\nNachwuchsgruppenleiter/\\nH eisenberg-Förderung',\n",
       "   '94.500',\n",
       "   '7.875',\n",
       "   'E 14 Stufe 5\\nbis E 15\\nStufe 4',\n",
       "   ''],\n",
       "  ['Postdoktorandin/\\nPostdoktorand\\nund Vergleichbare',\n",
       "   '80.100',\n",
       "   '6.675',\n",
       "   'E 13 Stufe 3\\nbis E 14\\nStufe 2',\n",
       "   'Promoviertes Personal oder sonstige wissen-\\nschaftliche Beschäftigte ohne Promotionsab-\\nsicht mit mindestens 3-jähriger Berufserfah-\\nrung (universitäres Diplom oder Masterab-\\nschluss (Uni/FH))'],\n",
       "  ['Ärztliche wissenschaftliche\\nMitarbeiterin/Ärztlicher wissen-\\nschaftlicher Mitarbeiter',\n",
       "   '102.300',\n",
       "   '8.525',\n",
       "   'Ä 1 Stufe 2\\nbis\\nÄ 2 Stufe 1',\n",
       "   'Beschäftigte, die nach TV-Ä vergütet werden\\n(inkl.) Rotationsstellen/Gerokstellen)'],\n",
       "  ['Doktorandin/Doktorand\\nund Vergleichbare',\n",
       "   '74.100',\n",
       "   '6.175',\n",
       "   'E 13 Stufe 2\\nbis E 14\\nStufe 1',\n",
       "   'Promovierende oder sonstige wissenschaftli-\\nche Beschäftigte ohne Promotionsabsicht mit\\nweniger als 3 Jahren Berufserfahrung\\n(universitäres Diplom oder Masterabschluss\\n(Uni/FH))'],\n",
       "  ['Sonstige(r) wissenschaftliche(r)\\nMitarbeiterin oder Mitarbeiter',\n",
       "   '61.500',\n",
       "   '5.125',\n",
       "   'E 9 bis E 12',\n",
       "   'Beschäftigte mit Bachelorabschluss (Uni/FH)'],\n",
       "  ['Nichtwissenschaftliche(r) Mitar-\\nbeiterin oder Mitarbeiter',\n",
       "   '54.300',\n",
       "   '4.525',\n",
       "   'E 2 Stufe 1\\nbis\\nE 9 Stufe 2',\n",
       "   'Sonstige technische oder administrative Be-\\nschäftigte mit tarifgebundenem Arbeitsvertrag\\nwie z. B. Technische Assistenz, Labor- und\\nWerkstattpersonal'],\n",
       "  ['Sonstige Personalmittel',\n",
       "   '(Mittel nach Bedarf gemäß den orts-\\nüblichen Sätzen)',\n",
       "   None,\n",
       "   None,\n",
       "   'Stud. und wissenschaftliche Hilfskräfte, Vertre-\\ntungskosten']]]"
      ]
     },
     "execution_count": 9,
     "metadata": {},
     "output_type": "execute_result"
    }
   ],
   "source": [
    "extracted_table"
   ]
  },
  {
   "cell_type": "code",
   "execution_count": 10,
   "id": "2efe03be2133ec0d",
   "metadata": {
    "ExecuteTime": {
     "end_time": "2023-12-06T14:25:33.689245Z",
     "start_time": "2023-12-06T14:25:33.685877Z"
    },
    "collapsed": false
   },
   "outputs": [],
   "source": [
    "del extracted_table[0][1]"
   ]
  },
  {
   "cell_type": "code",
   "execution_count": 11,
   "id": "8ffa45e9564c1e35",
   "metadata": {
    "ExecuteTime": {
     "end_time": "2023-12-06T14:25:41.631683Z",
     "start_time": "2023-12-06T14:25:41.627306Z"
    },
    "collapsed": false
   },
   "outputs": [
    {
     "data": {
      "text/plain": [
       "[[['Personalkostenkategorie',\n",
       "   'EUR/ Jahr',\n",
       "   'EUR/ Monat',\n",
       "   'Tarifliche Orientierung',\n",
       "   'Erläuterungen '],\n",
       "  ['Professur', '114.300', '9.525', 'W-Besoldung', ''],\n",
       "  ['Nachwuchsgruppenleiterin/\\nNachwuchsgruppenleiter/\\nH eisenberg-Förderung',\n",
       "   '94.500',\n",
       "   '7.875',\n",
       "   'E 14 Stufe 5\\nbis E 15\\nStufe 4',\n",
       "   ''],\n",
       "  ['Postdoktorandin/\\nPostdoktorand\\nund Vergleichbare',\n",
       "   '80.100',\n",
       "   '6.675',\n",
       "   'E 13 Stufe 3\\nbis E 14\\nStufe 2',\n",
       "   'Promoviertes Personal oder sonstige wissen-\\nschaftliche Beschäftigte ohne Promotionsab-\\nsicht mit mindestens 3-jähriger Berufserfah-\\nrung (universitäres Diplom oder Masterab-\\nschluss (Uni/FH))'],\n",
       "  ['Ärztliche wissenschaftliche\\nMitarbeiterin/Ärztlicher wissen-\\nschaftlicher Mitarbeiter',\n",
       "   '102.300',\n",
       "   '8.525',\n",
       "   'Ä 1 Stufe 2\\nbis\\nÄ 2 Stufe 1',\n",
       "   'Beschäftigte, die nach TV-Ä vergütet werden\\n(inkl.) Rotationsstellen/Gerokstellen)'],\n",
       "  ['Doktorandin/Doktorand\\nund Vergleichbare',\n",
       "   '74.100',\n",
       "   '6.175',\n",
       "   'E 13 Stufe 2\\nbis E 14\\nStufe 1',\n",
       "   'Promovierende oder sonstige wissenschaftli-\\nche Beschäftigte ohne Promotionsabsicht mit\\nweniger als 3 Jahren Berufserfahrung\\n(universitäres Diplom oder Masterabschluss\\n(Uni/FH))'],\n",
       "  ['Sonstige(r) wissenschaftliche(r)\\nMitarbeiterin oder Mitarbeiter',\n",
       "   '61.500',\n",
       "   '5.125',\n",
       "   'E 9 bis E 12',\n",
       "   'Beschäftigte mit Bachelorabschluss (Uni/FH)'],\n",
       "  ['Nichtwissenschaftliche(r) Mitar-\\nbeiterin oder Mitarbeiter',\n",
       "   '54.300',\n",
       "   '4.525',\n",
       "   'E 2 Stufe 1\\nbis\\nE 9 Stufe 2',\n",
       "   'Sonstige technische oder administrative Be-\\nschäftigte mit tarifgebundenem Arbeitsvertrag\\nwie z. B. Technische Assistenz, Labor- und\\nWerkstattpersonal'],\n",
       "  ['Sonstige Personalmittel',\n",
       "   '(Mittel nach Bedarf gemäß den orts-\\nüblichen Sätzen)',\n",
       "   None,\n",
       "   None,\n",
       "   'Stud. und wissenschaftliche Hilfskräfte, Vertre-\\ntungskosten']]]"
      ]
     },
     "execution_count": 11,
     "metadata": {},
     "output_type": "execute_result"
    }
   ],
   "source": [
    "extracted_table"
   ]
  },
  {
   "cell_type": "code",
   "execution_count": 13,
   "id": "21211abbacb68da6",
   "metadata": {
    "collapsed": false
   },
   "outputs": [],
   "source": [
    "from scrapping import scrape_data\n",
    "import datetime\n",
    "import re\n",
    "def get_index_exp(exp):\n",
    "    #For string exp find first number and stop\n",
    "    return int(re.search(r'\\d+', exp).group())\n",
    "def create_data(stellenart, stufe, percent, year, table_month, table_year):\n",
    "    data = []\n",
    "    # ballungsraumzulage = 132.5\n",
    "    # salary = dt.tarif[job][get_index_exp(exp)] * percent / 100\n",
    "    # if dt.tarif[job][9] == True:\n",
    "    #     salary += ballungsraumzulage\n",
    "    # sozial = salary * 0.26275 + 6.99\n",
    "    # ag_brutto = salary + sozial\n",
    "    # sonderzahlung = None\n",
    "    # if dt.tarif[job][10] == False:\n",
    "    #     sonderzahlung = dt.tarif[job][1] / 100\n",
    "    #     jahreskosten = round(ag_brutto * 12 + ag_brutto * sonderzahlung, 2)\n",
    "    #     sonderzahlung = str(int(sonderzahlung * 100)) + '%'\n",
    "    # else:\n",
    "    #     jahreskosten = round(ag_brutto * 12, 2)\n",
    "    #scrape if year is different from today:\n",
    "    if year != datetime.datetime.now().year:\n",
    "        table_month, table_year = scrape_data(year)\n",
    "    exp = get_index_exp(stufe)\n",
    "    salary = float(table_month[stellenart][exp]) * percent / 100\n",
    "    #salary = float(table_month[stellenart][exp] * percent / 100)\n",
    "    #sozial = table_year[stellenart][exp]\n",
    "    sozial = float(table_year[stellenart][exp]) * percent / 100 - salary*12\n",
    "    ag_brutto = salary + sozial/12\n",
    "    jahreskosten = table_year[stellenart][exp]\n",
    "    data.append(\n",
    "        [year, stufe, round(salary, 2), round(sozial, 2),\n",
    "         round(ag_brutto, 2),\n",
    "         round(jahreskosten, 2)])\n",
    "    return data"
   ]
  },
  {
   "cell_type": "code",
   "execution_count": null,
   "metadata": {},
   "outputs": [],
   "source": []
  }
 ],
 "metadata": {
  "kernelspec": {
   "display_name": "Python 3",
   "language": "python",
   "name": "python3"
  },
  "language_info": {
   "codemirror_mode": {
    "name": "ipython",
    "version": 3
   },
   "file_extension": ".py",
   "mimetype": "text/x-python",
   "name": "python",
   "nbconvert_exporter": "python",
   "pygments_lexer": "ipython3",
   "version": "3.12.0"
  }
 },
 "nbformat": 4,
 "nbformat_minor": 5
}
