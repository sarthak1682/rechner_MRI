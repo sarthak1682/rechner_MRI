{
 "cells": [
  {
   "cell_type": "code",
   "execution_count": 1,
   "id": "ed682922",
   "metadata": {
    "ExecuteTime": {
     "end_time": "2023-12-06T13:20:50.913948Z",
     "start_time": "2023-12-06T13:20:50.843710Z"
    }
   },
   "outputs": [],
   "source": [
    "import requests\n",
    "from bs4 import BeautifulSoup\n",
    "import json"
   ]
  },
  {
   "cell_type": "code",
   "execution_count": 5,
   "id": "4d1389b6",
   "metadata": {},
   "outputs": [],
   "source": []
  },
  {
   "cell_type": "code",
   "execution_count": 176,
   "id": "3c9a5ff0",
   "metadata": {},
   "outputs": [],
   "source": []
  },
  {
   "cell_type": "code",
   "execution_count": 195,
   "id": "f1bced2e",
   "metadata": {},
   "outputs": [],
   "source": []
  },
  {
   "cell_type": "code",
   "execution_count": 2,
   "id": "0b197b17",
   "metadata": {
    "ExecuteTime": {
     "end_time": "2023-12-06T13:20:55.340715Z",
     "start_time": "2023-12-06T13:20:53.288687Z"
    }
   },
   "outputs": [],
   "source": [
    "year = 2023\n",
    "normal_url = 'https://oeffentlicher-dienst.info/c/t/rechner/tv-l/west?id=tv-l-' + str(year) + '&matrix=1'\n",
    "doctor_url = 'https://oeffentlicher-dienst.info/c/t/rechner/aerzte/uniklinik?id=tv-aerzte-' + str(year) + '&matrix=1'\n",
    "normal_url_year = normal_url + '2'\n",
    "doctor_url_year = doctor_url +  '2'\n",
    "\n",
    "urls_year = [normal_url_year, doctor_url_year]\n",
    "urls_month = [normal_url, doctor_url]\n",
    "# create empty dictionary to store data\n",
    "a_links_month = []\n",
    "a_links_year = []\n",
    "\n",
    "for url in urls_month:\n",
    "    response = requests.get(url)\n",
    "    soup = BeautifulSoup(response.content, 'html.parser')\n",
    "    # extract data from soup and add to dictionary\n",
    "    for link in soup.find_all('a'):\n",
    "        a_links_month.append(link)\n",
    "\n",
    "for url in urls_year:\n",
    "    response = requests.get(url)\n",
    "    soup = BeautifulSoup(response.content, 'html.parser')\n",
    "    # extract data from soup and add to dictionary\n",
    "    for link in soup.find_all('a'):\n",
    "        a_links_year.append(link)\n",
    "\n",
    "a_links_month = [link for link in a_links_month if str(link).startswith('<a href=\"/c/t/rechner/tv-l/west?id=') or str(link).startswith('<a href=\"/c/t/rechner/aerzte/uniklinik?id=')]\n",
    "a_links_year = [link for link in a_links_year if str(link).startswith('<a href=\"/c/t/rechner/tv-l/west?id=') or str(link).startswith('<a href=\"/c/t/rechner/aerzte/uniklinik?id=')]\n",
    "table_month = {}\n",
    "table_year = {}\n",
    "for link in a_links_month:\n",
    "    #Find string between g= and &s\n",
    "    key = link.get('href').split('g=')[1].split('&s')[0]\n",
    "    stufe = int(link.get('href').split('s=')[1].split('&')[0])\n",
    "    #Find string between <span style=\"white-space:nowrap;\"> and </span> and delete whitespaces\n",
    "    value = link.find('span').text.strip()\n",
    "    substring_to_remove = '\\u2009'\n",
    "    if substring_to_remove in value:\n",
    "        value = value.replace(substring_to_remove, '')\n",
    "    # Create new dictionary if key is not in table\n",
    "    if key not in table_month:\n",
    "        table_month[key] = dict()\n",
    "    table_month[key][stufe] = float(value)\n",
    "\n",
    "for link in a_links_year:\n",
    "    #Find string between g= and &s\n",
    "    key = link.get('href').split('g=')[1].split('&s')[0]\n",
    "    stufe = int(link.get('href').split('s=')[1].split('&')[0])\n",
    "    #Find string between <span style=\"white-space:nowrap;\"> and </span> and delete whitespaces\n",
    "    value = link.find('span').text.strip()\n",
    "    # Create new dictionary if key is not in table\n",
    "    substring_to_remove = '\\u2009'\n",
    "    if substring_to_remove in value:\n",
    "        value = value.replace(substring_to_remove, '')\n",
    "    if key not in table_year:\n",
    "        table_year[key] = dict()\n",
    "\n",
    "    table_year[key][stufe] = float(value)"
   ]
  },
  {
   "cell_type": "code",
   "execution_count": 4,
   "metadata": {
    "ExecuteTime": {
     "end_time": "2023-12-06T13:22:23.187289Z",
     "start_time": "2023-12-06T13:22:23.181347Z"
    }
   },
   "outputs": [
    {
     "data": {
      "text/plain": "{'E_15Ü': {1: 75463.25, 2: 83761.51, 3: 91637.13, 4: 96802.29, 5: 98072.91},\n 'E_15': {1: 61839.85,\n  2: 66486.98,\n  3: 68942.67,\n  4: 77665.04,\n  5: 84269.92,\n  6: 86797.97},\n 'E_14': {1: 55989.4,\n  2: 60220.55,\n  3: 63692.59,\n  4: 68942.67,\n  5: 76987.15,\n  6: 79296.91},\n 'E_13Ü': {2: 56191.74, 3: 59189.13, 4: 68942.67, 5: 76987.15, 6: 79296.91},\n 'E_13': {1: 52206.9,\n  2: 56191.74,\n  3: 59189.13,\n  4: 65012.39,\n  5: 73062.21,\n  6: 75254.13},\n 'E_12': {1: 47052.5,\n  2: 50368.36,\n  3: 57390.72,\n  4: 63556.63,\n  5: 71520.83,\n  6: 73666.38},\n 'E_11': {1: 46547.42,\n  2: 49679.01,\n  3: 53246.04,\n  4: 58674.39,\n  5: 66554.2,\n  6: 68550.85},\n 'E_10': {1: 44903.25,\n  2: 47976.35,\n  3: 51494.95,\n  4: 55084.42,\n  5: 61914.04,\n  6: 63771.53},\n 'E_9b': {1: 39971.13,\n  2: 42933.87,\n  3: 44864.0,\n  4: 50197.54,\n  5: 54734.48,\n  6: 56376.73},\n 'E_9a': {1: 39971.13,\n  2: 42933.87,\n  3: 43577.42,\n  4: 44864.0,\n  5: 50197.54,\n  6: 51687.13},\n 'E_8': {1: 37954.53,\n  2: 40878.87,\n  3: 42504.24,\n  4: 44048.98,\n  5: 45756.02,\n  6: 46812.68},\n 'E_7': {1: 35711.75,\n  2: 38567.56,\n  3: 40716.04,\n  4: 42341.81,\n  5: 43642.57,\n  6: 44780.38},\n 'E_6': {1: 35110.32,\n  2: 37937.01,\n  3: 39513.57,\n  4: 41122.71,\n  5: 42179.24,\n  6: 43317.19},\n 'E_5': {1: 33735.48,\n  2: 36518.12,\n  3: 38094.68,\n  4: 39592.4,\n  5: 40797.33,\n  6: 41610.27},\n 'E_4': {1: 32194.76,\n  2: 35001.23,\n  3: 36970.74,\n  4: 38073.68,\n  5: 39176.75,\n  6: 39885.61},\n 'E_3': {1: 31783.94,\n  2: 34528.36,\n  3: 35316.26,\n  4: 36576.66,\n  5: 37600.94,\n  6: 38467.51},\n 'E_2Ü': {1: 30510.29,\n  2: 33189.04,\n  3: 34213.19,\n  4: 35473.97,\n  5: 36340.54,\n  6: 37522.28},\n 'E_2': {1: 29647.45,\n  2: 32243.56,\n  3: 33031.46,\n  4: 33819.24,\n  5: 35631.17,\n  6: 37522.28},\n 'E_1': {2: 26965.09, 3: 27358.66, 4: 27831.4, 5: 28304.28, 6: 29486.01},\n 'Ä_1': {1: 61250.88,\n  2: 64722.72,\n  3: 67202.52,\n  4: 71501.04,\n  5: 76625.64,\n  6: 78624.48},\n 'Ä_2': {1: 80841.36,\n  2: 87619.56,\n  3: 93571.08,\n  4: 96915.48,\n  5: 98738.64,\n  6: 101258.4},\n 'Ä_3': {1: 101258.4, 2: 107209.92, 3: 115723.68},\n 'Ä_4': {1: 119113.2, 2: 127626.72, 3: 134404.8}}"
     },
     "execution_count": 4,
     "metadata": {},
     "output_type": "execute_result"
    }
   ],
   "source": [
    "table_year"
   ],
   "id": "cd658e9f7d547474"
  },
  {
   "cell_type": "code",
   "execution_count": 179,
   "id": "bfeba2bb",
   "metadata": {},
   "outputs": [
    {
     "data": {
      "text/plain": [
       "[<a href=\"/c/t/rechner/aerzte/uniklinik?id=tv-aerzte-2023&amp;g=Ä_1&amp;s=1&amp;f=&amp;z=&amp;zv=&amp;r=&amp;awz=&amp;zulage=&amp;kk=&amp;kkz=&amp;zkf=&amp;stkl=\" title=\"Arzt im 1. Jahr \"><font color=\"#000070\"><span style=\"white-space:nowrap;\"> 5104.24</span></font></a>,\n",
       " <a href=\"/c/t/rechner/aerzte/uniklinik?id=tv-aerzte-2023&amp;g=Ä_1&amp;s=2&amp;f=&amp;z=&amp;zv=&amp;r=&amp;awz=&amp;zulage=&amp;kk=&amp;kkz=&amp;zkf=&amp;stkl=\" title=\"Arzt im 2. Jahr \"><font color=\"#000070\"><span style=\"white-space:nowrap;\"> 5393.56</span></font></a>,\n",
       " <a href=\"/c/t/rechner/aerzte/uniklinik?id=tv-aerzte-2023&amp;g=Ä_1&amp;s=3&amp;f=&amp;z=&amp;zv=&amp;r=&amp;awz=&amp;zulage=&amp;kk=&amp;kkz=&amp;zkf=&amp;stkl=\" title=\"Arzt im 3. Jahr \"><font color=\"#000070\"><span style=\"white-space:nowrap;\"> 5600.21</span></font></a>,\n",
       " <a href=\"/c/t/rechner/aerzte/uniklinik?id=tv-aerzte-2023&amp;g=Ä_1&amp;s=4&amp;f=&amp;z=&amp;zv=&amp;r=&amp;awz=&amp;zulage=&amp;kk=&amp;kkz=&amp;zkf=&amp;stkl=\" title=\"Arzt im 4. Jahr \"><font color=\"#000070\"><span style=\"white-space:nowrap;\"> 5958.42</span></font></a>,\n",
       " <a href=\"/c/t/rechner/aerzte/uniklinik?id=tv-aerzte-2023&amp;g=Ä_1&amp;s=5&amp;f=&amp;z=&amp;zv=&amp;r=&amp;awz=&amp;zulage=&amp;kk=&amp;kkz=&amp;zkf=&amp;stkl=\" title=\"Arzt im 5. Jahr \"><font color=\"#000070\"><span style=\"white-space:nowrap;\"> 6385.47</span></font></a>,\n",
       " <a href=\"/c/t/rechner/aerzte/uniklinik?id=tv-aerzte-2023&amp;g=Ä_1&amp;s=6&amp;f=&amp;z=&amp;zv=&amp;r=&amp;awz=&amp;zulage=&amp;kk=&amp;kkz=&amp;zkf=&amp;stkl=\" title=\"Arzt ab dem 6. Jahr \"><font color=\"#000070\"><span style=\"white-space:nowrap;\"> 6552.04</span></font></a>,\n",
       " <a href=\"/c/t/rechner/aerzte/uniklinik?id=tv-aerzte-2023&amp;g=Ä_2&amp;s=1&amp;f=&amp;z=&amp;zv=&amp;r=&amp;awz=&amp;zulage=&amp;kk=&amp;kkz=&amp;zkf=&amp;stkl=\" title=\"Facharzt ab dem 1. Jahr \"><font color=\"#000070\"><span style=\"white-space:nowrap;\"> 6736.78</span></font></a>,\n",
       " <a href=\"/c/t/rechner/aerzte/uniklinik?id=tv-aerzte-2023&amp;g=Ä_2&amp;s=2&amp;f=&amp;z=&amp;zv=&amp;r=&amp;awz=&amp;zulage=&amp;kk=&amp;kkz=&amp;zkf=&amp;stkl=\" title=\"Facharzt ab dem 4. Jahr \"><font color=\"#000070\"><span style=\"white-space:nowrap;\"> 7301.63</span></font></a>,\n",
       " <a href=\"/c/t/rechner/aerzte/uniklinik?id=tv-aerzte-2023&amp;g=Ä_2&amp;s=3&amp;f=&amp;z=&amp;zv=&amp;r=&amp;awz=&amp;zulage=&amp;kk=&amp;kkz=&amp;zkf=&amp;stkl=\" title=\"Facharzt ab dem 7. Jahr \"><font color=\"#000070\"><span style=\"white-space:nowrap;\"> 7797.59</span></font></a>,\n",
       " <a href=\"/c/t/rechner/aerzte/uniklinik?id=tv-aerzte-2023&amp;g=Ä_2&amp;s=4&amp;f=&amp;z=&amp;zv=&amp;r=&amp;awz=&amp;zulage=&amp;kk=&amp;kkz=&amp;zkf=&amp;stkl=\" title=\"Facharzt ab dem 9. Jahr \"><font color=\"#000070\"><span style=\"white-space:nowrap;\"> 8076.29</span></font></a>,\n",
       " <a href=\"/c/t/rechner/aerzte/uniklinik?id=tv-aerzte-2023&amp;g=Ä_2&amp;s=5&amp;f=&amp;z=&amp;zv=&amp;r=&amp;awz=&amp;zulage=&amp;kk=&amp;kkz=&amp;zkf=&amp;stkl=\" title=\"Facharzt ab dem 11. Jahr \"><font color=\"#000070\"><span style=\"white-space:nowrap;\"> 8228.22</span></font></a>,\n",
       " <a href=\"/c/t/rechner/aerzte/uniklinik?id=tv-aerzte-2023&amp;g=Ä_2&amp;s=6&amp;f=&amp;z=&amp;zv=&amp;r=&amp;awz=&amp;zulage=&amp;kk=&amp;kkz=&amp;zkf=&amp;stkl=\" title=\"Facharzt ab dem 13. Jahr \"><font color=\"#000070\"><span style=\"white-space:nowrap;\"> 8438.20</span></font></a>,\n",
       " <a href=\"/c/t/rechner/aerzte/uniklinik?id=tv-aerzte-2023&amp;g=Ä_3&amp;s=1&amp;f=&amp;z=&amp;zv=&amp;r=&amp;awz=&amp;zulage=&amp;kk=&amp;kkz=&amp;zkf=&amp;stkl=\" title=\"Oberarzt ab dem 1. Jahr \"><font color=\"#000070\"><span style=\"white-space:nowrap;\"> 8438.20</span></font></a>,\n",
       " <a href=\"/c/t/rechner/aerzte/uniklinik?id=tv-aerzte-2023&amp;g=Ä_3&amp;s=2&amp;f=&amp;z=&amp;zv=&amp;r=&amp;awz=&amp;zulage=&amp;kk=&amp;kkz=&amp;zkf=&amp;stkl=\" title=\"Oberarzt ab dem 4. Jahr \"><font color=\"#000070\"><span style=\"white-space:nowrap;\"> 8934.16</span></font></a>,\n",
       " <a href=\"/c/t/rechner/aerzte/uniklinik?id=tv-aerzte-2023&amp;g=Ä_3&amp;s=3&amp;f=&amp;z=&amp;zv=&amp;r=&amp;awz=&amp;zulage=&amp;kk=&amp;kkz=&amp;zkf=&amp;stkl=\" title=\"Oberarzt ab dem 7. Jahr \"><font color=\"#000070\"><span style=\"white-space:nowrap;\"> 9643.64</span></font></a>,\n",
       " <a href=\"/c/t/rechner/aerzte/uniklinik?id=tv-aerzte-2023&amp;g=Ä_4&amp;s=1&amp;f=&amp;z=&amp;zv=&amp;r=&amp;awz=&amp;zulage=&amp;kk=&amp;kkz=&amp;zkf=&amp;stkl=\" title=\"stv. des ltd. Arztes ab dem 1. Jahr \"><font color=\"#000070\"><span style=\"white-space:nowrap;\"> 9926.10</span></font></a>,\n",
       " <a href=\"/c/t/rechner/aerzte/uniklinik?id=tv-aerzte-2023&amp;g=Ä_4&amp;s=2&amp;f=&amp;z=&amp;zv=&amp;r=&amp;awz=&amp;zulage=&amp;kk=&amp;kkz=&amp;zkf=&amp;stkl=\" title=\"stv. des ltd. Arztes ab dem 4. Jahr \"><font color=\"#000070\"><span style=\"white-space:nowrap;\">10635.56</span></font></a>,\n",
       " <a href=\"/c/t/rechner/aerzte/uniklinik?id=tv-aerzte-2023&amp;g=Ä_4&amp;s=3&amp;f=&amp;z=&amp;zv=&amp;r=&amp;awz=&amp;zulage=&amp;kk=&amp;kkz=&amp;zkf=&amp;stkl=\" title=\"stv. des ltd. Arztes ab dem 7. Jahr \"><font color=\"#000070\"><span style=\"white-space:nowrap;\">11200.40</span></font></a>]"
      ]
     },
     "execution_count": 179,
     "metadata": {},
     "output_type": "execute_result"
    }
   ],
   "source": [
    "a_links_month"
   ]
  }
 ],
 "metadata": {
  "kernelspec": {
   "display_name": "Python 3 (ipykernel)",
   "language": "python",
   "name": "python3"
  },
  "language_info": {
   "codemirror_mode": {
    "name": "ipython",
    "version": 3
   },
   "file_extension": ".py",
   "mimetype": "text/x-python",
   "name": "python",
   "nbconvert_exporter": "python",
   "pygments_lexer": "ipython3",
   "version": "3.11.3"
  }
 },
 "nbformat": 4,
 "nbformat_minor": 5
}
