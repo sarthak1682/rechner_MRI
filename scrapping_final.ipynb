{
 "cells": [
  {
   "cell_type": "code",
   "execution_count": 4,
   "metadata": {},
   "outputs": [],
   "source": [
    "import requests\n",
    "import pdfplumber\n",
    "import re"
   ]
  },
  {
   "cell_type": "code",
   "execution_count": 17,
   "metadata": {},
   "outputs": [],
   "source": [
    "\n",
    "\n",
    "def clean_string(text):\n",
    "    \"\"\"\n",
    "    Replaces newline characters with spaces, and removes forward slashes.\n",
    "\n",
    "    Args:\n",
    "      text: The string to clean.\n",
    "\n",
    "    Returns:\n",
    "      The cleaned string.\n",
    "    \"\"\"\n",
    "    text = text.replace('\\n', ' ')  # Replace newline characters with spaces\n",
    "    text = text.replace('/', '')   # Remove forward slashes\n",
    "    return text\n",
    "\n",
    "\n",
    "def create_stufen_data(extracted_data):\n",
    "    \"\"\"\n",
    "    Creates a list of Stellenart-Stufe combinations with corresponding salary data.\n",
    "\n",
    "    Args:\n",
    "        extracted_data: A list of lists containing salary data extracted from the PDF.\n",
    "\n",
    "    Returns:\n",
    "        A list of lists, where each inner list represents a Stellenart-Stufe combination with salary data.\n",
    "    \"\"\"\n",
    "    stufen_data = []\n",
    "\n",
    "    # Hardcoded Stufe ranges for each Stellenart\n",
    "    stufen_ranges = {\n",
    "        'E14': ['E14 Stufe 5', 'E14 Stufe 6', 'E15 Stufe 1', 'E15 Stufe 2', 'E15 Stufe 3', 'E15 Stufe 4'],\n",
    "        'E13': ['E13 Stufe 3', 'E13 Stufe 4', 'E13 Stufe 5', 'E13 Stufe 6', 'E14 Stufe 1', 'E14 Stufe 2'],\n",
    "        'Ä1': ['Ä1 Stufe 2', 'Ä1 Stufe 3', 'Ä1 Stufe 4', 'Ä1 Stufe 5', 'Ä1 Stufe 6', 'Ä2 Stufe 1'],\n",
    "        'E12': ['E12 Stufe 2', 'E12 Stufe 3', 'E12 Stufe 4', 'E12 Stufe 5', 'E12 Stufe 6', 'E13 Stufe 1'],\n",
    "        'E9': ['E9 Stufe 1', 'E9 Stufe 2', 'E9 Stufe 3', 'E9 Stufe 4', 'E9 Stufe 5', 'E9 Stufe 6',\n",
    "               'E10 Stufe 1', 'E10 Stufe 2', 'E10 Stufe 3', 'E10 Stufe 4', 'E10 Stufe 5', 'E10 Stufe 6',\n",
    "               'E11 Stufe 1', 'E11 Stufe 2', 'E11 Stufe 3', 'E11 Stufe 4', 'E11 Stufe 5', 'E11 Stufe 6',\n",
    "               'E12 Stufe 1', 'E12 Stufe 2', 'E12 Stufe 3', 'E12 Stufe 4', 'E12 Stufe 5', 'E12 Stufe 6'],\n",
    "        'E2': ['E2 Stufe 1', 'E2 Stufe 2', 'E2 Stufe 3', 'E2 Stufe 4', 'E2 Stufe 5', 'E2 Stufe 6',\n",
    "               'E3 Stufe 1', 'E3 Stufe 2', 'E3 Stufe 3', 'E3 Stufe 4', 'E3 Stufe 5', 'E3 Stufe 6',\n",
    "               'E4 Stufe 1', 'E4 Stufe 2', 'E4 Stufe 3', 'E4 Stufe 4', 'E4 Stufe 5', 'E4 Stufe 6',\n",
    "               'E5 Stufe 1', 'E5 Stufe 2', 'E5 Stufe 3', 'E5 Stufe 4', 'E5 Stufe 5', 'E5 Stufe 6',\n",
    "               'E6 Stufe 1', 'E6 Stufe 2', 'E6 Stufe 3', 'E6 Stufe 4', 'E6 Stufe 5', 'E6 Stufe 6',\n",
    "               'E7 Stufe 1', 'E7 Stufe 2', 'E7 Stufe 3', 'E7 Stufe 4', 'E7 Stufe 5', 'E7 Stufe 6',\n",
    "               'E8 Stufe 1', 'E8 Stufe 2', 'E8 Stufe 3', 'E8 Stufe 4', 'E8 Stufe 5', 'E8 Stufe 6',\n",
    "               'E9 Stufe 1', 'E9 Stufe 2']\n",
    "    }\n",
    "\n",
    "    for i, row in enumerate(extracted_data):\n",
    "        stellenart_key = row[2].split()[0] + row[2].split()[1]  # Extract the Stellenart key (e.g., 'E14')\n",
    "        #print(stellenart_key)\n",
    "        if stellenart_key in stufen_ranges:\n",
    "            #print(\"Hey\")\n",
    "            for stufe in stufen_ranges[stellenart_key]:\n",
    "                stellenart, stufe_num = stufe.split(' Stufe ')\n",
    "                stufen_data.append([stellenart, stufe_num, row[0], row[1]])\n",
    "                #print(f\"Stellenart: {stellenart}, Stufe: {stufe_num}, Jahreskosten: {row[0]}, Monatskosten: {row[1]}\")\n",
    "\n",
    "    return stufen_data"
   ]
  },
  {
   "cell_type": "code",
   "execution_count": 20,
   "metadata": {},
   "outputs": [],
   "source": [
    "url = 'https://www.dfg.de/formulare/60_12/v/60_12_-2023-_de.pdf'\n",
    "url_2 = 'https://www.dfg.de/resource/blob/323036/2f7e7eb3e4110dd63ae9bad50a3602e4/60-12-2024-de-data.pdf'\n",
    "\n",
    "def make_table(url):\n",
    "    \n",
    "    response = requests.get(url)\n",
    "    with open(\"test_file.pdf\", \"wb\") as pdf_file:\n",
    "        pdf_file.write(response.content)\n",
    "\n",
    "    with pdfplumber.open('test_file.pdf') as f:\n",
    "        for i in f.pages:\n",
    "            extracted_table = i.extract_tables()\n",
    "    del extracted_table[0][1]\n",
    "    table = []\n",
    "    for i in range(2,8):\n",
    "        data = extracted_table[0][i]\n",
    "        table.append(data[1:4])\n",
    "\n",
    "    #print(table)\n",
    "    stufen_data = create_stufen_data(table)\n",
    "    \n",
    "    #print(extracted_table)\n",
    "    return stufen_data\n",
    "\n"
   ]
  },
  {
   "cell_type": "code",
   "execution_count": 22,
   "metadata": {},
   "outputs": [
    {
     "name": "stdout",
     "output_type": "stream",
     "text": [
      "[['E14', '5', '94.500', '7.875'], ['E14', '6', '94.500', '7.875'], ['E15', '1', '94.500', '7.875'], ['E15', '2', '94.500', '7.875'], ['E15', '3', '94.500', '7.875'], ['E15', '4', '94.500', '7.875'], ['E13', '3', '80.100', '6.675'], ['E13', '4', '80.100', '6.675'], ['E13', '5', '80.100', '6.675'], ['E13', '6', '80.100', '6.675'], ['E14', '1', '80.100', '6.675'], ['E14', '2', '80.100', '6.675'], ['Ä1', '2', '102.300', '8.525'], ['Ä1', '3', '102.300', '8.525'], ['Ä1', '4', '102.300', '8.525'], ['Ä1', '5', '102.300', '8.525'], ['Ä1', '6', '102.300', '8.525'], ['Ä2', '1', '102.300', '8.525'], ['E13', '3', '74.100', '6.175'], ['E13', '4', '74.100', '6.175'], ['E13', '5', '74.100', '6.175'], ['E13', '6', '74.100', '6.175'], ['E14', '1', '74.100', '6.175'], ['E14', '2', '74.100', '6.175'], ['E9', '1', '61.500', '5.125'], ['E9', '2', '61.500', '5.125'], ['E9', '3', '61.500', '5.125'], ['E9', '4', '61.500', '5.125'], ['E9', '5', '61.500', '5.125'], ['E9', '6', '61.500', '5.125'], ['E10', '1', '61.500', '5.125'], ['E10', '2', '61.500', '5.125'], ['E10', '3', '61.500', '5.125'], ['E10', '4', '61.500', '5.125'], ['E10', '5', '61.500', '5.125'], ['E10', '6', '61.500', '5.125'], ['E11', '1', '61.500', '5.125'], ['E11', '2', '61.500', '5.125'], ['E11', '3', '61.500', '5.125'], ['E11', '4', '61.500', '5.125'], ['E11', '5', '61.500', '5.125'], ['E11', '6', '61.500', '5.125'], ['E12', '1', '61.500', '5.125'], ['E12', '2', '61.500', '5.125'], ['E12', '3', '61.500', '5.125'], ['E12', '4', '61.500', '5.125'], ['E12', '5', '61.500', '5.125'], ['E12', '6', '61.500', '5.125'], ['E2', '1', '54.300', '4.525'], ['E2', '2', '54.300', '4.525'], ['E2', '3', '54.300', '4.525'], ['E2', '4', '54.300', '4.525'], ['E2', '5', '54.300', '4.525'], ['E2', '6', '54.300', '4.525'], ['E3', '1', '54.300', '4.525'], ['E3', '2', '54.300', '4.525'], ['E3', '3', '54.300', '4.525'], ['E3', '4', '54.300', '4.525'], ['E3', '5', '54.300', '4.525'], ['E3', '6', '54.300', '4.525'], ['E4', '1', '54.300', '4.525'], ['E4', '2', '54.300', '4.525'], ['E4', '3', '54.300', '4.525'], ['E4', '4', '54.300', '4.525'], ['E4', '5', '54.300', '4.525'], ['E4', '6', '54.300', '4.525'], ['E5', '1', '54.300', '4.525'], ['E5', '2', '54.300', '4.525'], ['E5', '3', '54.300', '4.525'], ['E5', '4', '54.300', '4.525'], ['E5', '5', '54.300', '4.525'], ['E5', '6', '54.300', '4.525'], ['E6', '1', '54.300', '4.525'], ['E6', '2', '54.300', '4.525'], ['E6', '3', '54.300', '4.525'], ['E6', '4', '54.300', '4.525'], ['E6', '5', '54.300', '4.525'], ['E6', '6', '54.300', '4.525'], ['E7', '1', '54.300', '4.525'], ['E7', '2', '54.300', '4.525'], ['E7', '3', '54.300', '4.525'], ['E7', '4', '54.300', '4.525'], ['E7', '5', '54.300', '4.525'], ['E7', '6', '54.300', '4.525'], ['E8', '1', '54.300', '4.525'], ['E8', '2', '54.300', '4.525'], ['E8', '3', '54.300', '4.525'], ['E8', '4', '54.300', '4.525'], ['E8', '5', '54.300', '4.525'], ['E8', '6', '54.300', '4.525'], ['E9', '1', '54.300', '4.525'], ['E9', '2', '54.300', '4.525']]\n"
     ]
    }
   ],
   "source": [
    "sd= make_table(url)\n",
    "print(sd)"
   ]
  },
  {
   "cell_type": "code",
   "execution_count": null,
   "metadata": {},
   "outputs": [],
   "source": [
    "\n",
    "\n",
    "\n",
    "# Example usage (assuming extracted_data is your list of lists from the PDF)\n",
    "extracted_data = [\n",
    "    ['94.500', '7.875', 'E 14 Stufe 5\\nbis E 15\\nStufe 4'],\n",
    "    ['80.100', '6.675', 'E 13 Stufe 3\\nbis E 14\\nStufe 2'],\n",
    "    ['102.300', '8.525', 'Ä 1 Stufe 2\\nbis\\nÄ 2 Stufe 1'],\n",
    "    ['74.100', '6.175', 'E 13 Stufe 2\\nbis E 14\\nStufe 1'],\n",
    "    ['61.500', '5.125', 'E 9 bis E 12'],\n",
    "    ['54.300', '4.525', 'E 2 Stufe 1\\nbis\\nE 9 Stufe 2']\n",
    "]\n",
    "\n",
    "stufen_data = create_stufen_data(extracted_data)\n",
    "\n",
    "# Print the data in a tabular format\n",
    "print(\"Stellenart | Stufe | Jahreskosten | Monatskosten\")\n",
    "print(\"-\" * 50)\n",
    "for row in stufen_data:\n",
    "    print(f\"{row[0]:<12}|{row[1]:<7}|{row[2]:<14}|{row[3]:<15}\")"
   ]
  }
 ],
 "metadata": {
  "kernelspec": {
   "display_name": "venv",
   "language": "python",
   "name": "python3"
  },
  "language_info": {
   "codemirror_mode": {
    "name": "ipython",
    "version": 3
   },
   "file_extension": ".py",
   "mimetype": "text/x-python",
   "name": "python",
   "nbconvert_exporter": "python",
   "pygments_lexer": "ipython3",
   "version": "3.12.0"
  }
 },
 "nbformat": 4,
 "nbformat_minor": 2
}
